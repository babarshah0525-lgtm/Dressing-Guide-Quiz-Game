{
 "cells": [
  {
   "cell_type": "code",
   "execution_count": null,
   "id": "785cd103-812f-4cdf-983e-a1cda501cf48",
   "metadata": {},
   "outputs": [
    {
     "name": "stdout",
     "output_type": "stream",
     "text": [
      "Welcome to the Dressing Sense Quiz\n",
      "\n",
      "Question 1 : Which color is generally considered the most versatile neutral for business and formal wear?\n",
      "A. Navy Blue\n",
      "B. Olive Green\n",
      "C. Bright Red\n",
      "D. Baby Pink\n"
     ]
    }
   ],
   "source": [
    "import random\n",
    "\n",
    "quiz_data =[ {\n",
    "\"question\": \"What is the primary purpose of layering clothes?\",\n",
    "\"options\": [\"A. To look taller\", \"B. To increase versatility and adjust to temperature changes\", \"C. To hide imperfections\", \"D. To minimize laundry\"],\n",
    "\"answer\": \"B\"\n",
    "},\n",
    "{\n",
    "\"question\": \"Which color is generally considered the most versatile neutral for business and formal wear?\",\n",
    "\"options\": [\"A. Navy Blue\", \"B. Olive Green\", \"C. Bright Red\", \"D. Baby Pink\"],\n",
    "\"answer\": \"A\"\n",
    "},\n",
    "{\n",
    "\"question\": \"In formal menswear, what does 'Black Tie' refer to?\",\n",
    "\"options\": [\"A. A regular black necktie and a dark suit\", \"B. A black suit with a white shirt\", \"C. A tuxedo with a black bow tie\", \"D. Any outfit that includes black\"],\n",
    "\"answer\": \"C\"\n",
    "},\n",
    "{\n",
    "\"question\": \"When matching shoes and a belt, what is the best practice?\",\n",
    "\"options\": [\"A. They should be the exact same price\", \"B. They should be the same color and material\", \"C. They should contrast sharply in color\", \"D. They should both have metal buckles\"],\n",
    "\"answer\": \"B\"\n",
    "},\n",
    "{\n",
    "\"question\": \"Which garment is typically worn underneath a suit jacket for a professional look?\",\n",
    "\"options\": [\"A. Tank Top\", \"B. Hoodie\", \"C. T-shirt with a large logo\", \"D. Dress Shirt/Blouse\"],\n",
    "\"answer\": \"D\"\n",
    "}]\n",
    "def run_code():\n",
    "    print(\"Welcome to the Dressing Guide Quiz\") \n",
    "    total_question = len(quiz_data)\n",
    "    score = 0\n",
    "    question_asked = quiz_data[:]\n",
    "    random.shuffle(question_asked)\n",
    "    for i,j in enumerate(question_asked):\n",
    "        print(f\"\\nQuestion {i + 1} : {j['question']}\")\n",
    "        for option in j['options']:\n",
    "            print(option)\n",
    "        while True:\n",
    "            Valid_option = input(\"Enter (A, B, C or D)\").strip().upper()\n",
    "            if Valid_option in [\"A\", \"B\", \"C\", \"D\"]:\n",
    "                break\n",
    "            else:\n",
    "                print(\"Invalid Input!\\nPlease Enter (A, B, C or D)\")\n",
    "        if Valid_option == j['answer']:\n",
    "            print(\"Correct Answer! Keep it up\")\n",
    "            score+=1\n",
    "        else:\n",
    "            print(f\"Incorrect Answer....Correct Answer is {j['answer']}\")\n",
    "    print(\"_\"*40)\n",
    "    print(\"---Quiz Completed---Hope You Enjoy this Game\")\n",
    "    print(f\"Your Final Score is{score} out of {total_question}\")\n",
    "    if score == total_question:\n",
    "        print(\"Perfect Score!\")\n",
    "    elif score == total_question/2:\n",
    "        print(\"Not Bad! But keep Work Hard\")\n",
    "    else:\n",
    "        print(\"You Lost! Better Luck Next Time\")\n",
    "    print(\"_\"*40)\n",
    "if __name__ == \"__main__\":\n",
    "    run_code()\n"
   ]
  },
  {
   "cell_type": "code",
   "execution_count": null,
   "id": "e3fec33c-058f-405c-90f1-4717e86176b1",
   "metadata": {},
   "outputs": [],
   "source": []
  }
 ],
 "metadata": {
  "kernelspec": {
   "display_name": "Python 3 (ipykernel)",
   "language": "python",
   "name": "python3"
  },
  "language_info": {
   "codemirror_mode": {
    "name": "ipython",
    "version": 3
   },
   "file_extension": ".py",
   "mimetype": "text/x-python",
   "name": "python",
   "nbconvert_exporter": "python",
   "pygments_lexer": "ipython3",
   "version": "3.13.5"
  }
 },
 "nbformat": 4,
 "nbformat_minor": 5
}
